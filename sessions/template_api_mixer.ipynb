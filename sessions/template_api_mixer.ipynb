{
 "cells": [
  {
   "cell_type": "markdown",
   "metadata": {},
   "source": [
    "# Demonstration of the Mixer API\n",
    "\n",
    "Mixer is well-known gaming streaming service, available at https://mixer.com. The website itself is based on Mixer's Application Protocol Interface (API), which is a programmatic way to access the service's features/functions.\n",
    "\n",
    "Not only does Mixer itself use their API to build their website, but it allows other developers to extend the Mixer ecosystem. Just browse the web a bit to find out what other services/companies have integrated with Mixer (e.g., software to support direct streaming to Mixer, to name just one)."
   ]
  },
  {
   "cell_type": "markdown",
   "metadata": {},
   "source": [
    "## Making a request to the Mixer API"
   ]
  },
  {
   "cell_type": "markdown",
   "metadata": {},
   "source": [
    "To make a \"data request\" to the Mixer API, we first have to import the `requests` package, which will allow us to use Python to retrieve data from the internet."
   ]
  },
  {
   "cell_type": "code",
   "execution_count": null,
   "metadata": {},
   "outputs": [],
   "source": [
    "import requests # let's import the package\n",
    "url = 'https://mixer.com/api/v1/channels' # let's define the URL we want (swap with other endpoints)\n",
    "data = requests.get(url) # let's make the request\n",
    "data.text # let's spit out the result of our request (i.e., the data we retrieve)"
   ]
  },
  {
   "cell_type": "markdown",
   "metadata": {},
   "source": [
    "Wow! That's a lot of text. Can we make it more readable? Yep! Let's first transform it to a JSON object..."
   ]
  },
  {
   "cell_type": "code",
   "execution_count": null,
   "metadata": {},
   "outputs": [],
   "source": [
    "import json # import the JSON package\n",
    "\n",
    "obj = json.loads(data.text)"
   ]
  },
  {
   "cell_type": "markdown",
   "metadata": {},
   "source": [
    "...and display its first element."
   ]
  },
  {
   "cell_type": "code",
   "execution_count": null,
   "metadata": {},
   "outputs": [],
   "source": [
    "obj[0]"
   ]
  },
  {
   "cell_type": "markdown",
   "metadata": {},
   "source": [
    "We could also copy it to https://jsonviewer.stack.hu to visualize...\n",
    "\n",
    "Alternatively, you can open the API endpoint directly in your browser (open https://mixer.com/api/v1/channels in a new tab) to explore it."
   ]
  },
  {
   "cell_type": "markdown",
   "metadata": {},
   "source": [
    "In the next section, we explain how you can make the retrieved objects more readable by means of \"parsing\"."
   ]
  },
  {
   "cell_type": "markdown",
   "metadata": {},
   "source": [
    "## Convert output to readable text (\"parsing\")"
   ]
  },
  {
   "cell_type": "code",
   "execution_count": null,
   "metadata": {},
   "outputs": [],
   "source": [
    "obj = json.loads(data.text) # convert the downloaded data to a JSON object\n",
    "\n",
    "# iterate throught the JSON object and print the \"name\" of a particular channel\n",
    "for i in obj:\n",
    "    print(i.get('name'))"
   ]
  },
  {
   "cell_type": "markdown",
   "metadata": {},
   "source": [
    "## Let's put it together"
   ]
  },
  {
   "cell_type": "code",
   "execution_count": null,
   "metadata": {},
   "outputs": [],
   "source": [
    "# Import necessary packages\n",
    "import requests \n",
    "import json\n",
    "\n",
    "# Retrieve data from the API\n",
    "url = 'https://mixer.com/api/v1/channels' # let's define the URL we want (swap with other endpoints)\n",
    "data = requests.get(url) # let's make the request\n",
    "\n",
    "# Parse data\n",
    "obj = json.loads(data.text) # convert the downloaded data to a JSON object\n",
    "\n",
    "# iterate throught the JSON object and print the \"name\" of a particular channel\n",
    "for i in obj:\n",
    "    print(i.get('name'))\n",
    "    "
   ]
  },
  {
   "cell_type": "markdown",
   "metadata": {},
   "source": [
    "## Want more?\n",
    "\n",
    "- This is the documentation of the Mixer API - dare to try out more calls? http://dev.mixer.com/rest/index.html\n",
    "- Here are a few more JSON objects to explore: https://gist.github.com/hannesdatta/48241f22eb9a50322782db2018f6fad2\n"
   ]
  },
  {
   "cell_type": "markdown",
   "metadata": {},
   "source": [
    "### Example of a timer which runs the API request every 10 seconds"
   ]
  },
  {
   "cell_type": "code",
   "execution_count": null,
   "metadata": {},
   "outputs": [],
   "source": [
    "import time\n",
    "import requests\n",
    "\n",
    "cnt = 0\n",
    "\n",
    "while (1==1):\n",
    "    cnt+=1\n",
    "    \n",
    "    url = 'https://mixer.com/api/v1/channels' # let's define the URL we want (swap with other endpoints)\n",
    "    \n",
    "    print('getting data....')\n",
    "    data = requests.get(url) # let's make the request\n",
    "    \n",
    "    time.sleep(10) # sleep for 10 seconds\n",
    "    \n",
    "    if cnt>10: break\n"
   ]
  },
  {
   "cell_type": "code",
   "execution_count": null,
   "metadata": {},
   "outputs": [],
   "source": []
  }
 ],
 "metadata": {
  "kernelspec": {
   "display_name": "Python 3",
   "language": "python",
   "name": "python3"
  },
  "language_info": {
   "codemirror_mode": {
    "name": "ipython",
    "version": 3
   },
   "file_extension": ".py",
   "mimetype": "text/x-python",
   "name": "python",
   "nbconvert_exporter": "python",
   "pygments_lexer": "ipython3",
   "version": "3.7.6"
  }
 },
 "nbformat": 4,
 "nbformat_minor": 4
}
