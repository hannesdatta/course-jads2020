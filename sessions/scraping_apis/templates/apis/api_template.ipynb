{
 "cells": [
  {
   "cell_type": "markdown",
   "metadata": {},
   "source": [
    "# API template\n",
    "*This version: 14 June 2019*\n",
    "\n",
    "Comments: h.datta@tilburguniversity.edu\n",
    "\n",
    "**Requires Python 3.x**"
   ]
  },
  {
   "cell_type": "markdown",
   "metadata": {},
   "source": [
    "## Retrieving releases for list of artists from iTunes"
   ]
  },
  {
   "cell_type": "markdown",
   "metadata": {},
   "source": [
    "Based on https://affiliate.itunes.apple.com/resources/documentation/itunes-store-web-service-search-api/"
   ]
  },
  {
   "cell_type": "markdown",
   "metadata": {},
   "source": [
    "### (1) Load list of artists"
   ]
  },
  {
   "cell_type": "code",
   "execution_count": null,
   "metadata": {},
   "outputs": [],
   "source": [
    "f = open('artists.txt').readlines()\n",
    "artists=[]\n",
    "for a in f:\n",
    "    artists.append(a.replace('\\n',''))\n",
    "print(artists)"
   ]
  },
  {
   "cell_type": "markdown",
   "metadata": {},
   "source": [
    "### (2) Obtain corresponding data at iTunes"
   ]
  },
  {
   "cell_type": "code",
   "execution_count": null,
   "metadata": {},
   "outputs": [],
   "source": [
    "import json\n",
    "import requests\n",
    "import urllib.parse\n",
    "import time\n",
    "\n",
    "output = open('output.json', 'w', encoding='UTF-8')\n",
    "for a in artists:\n",
    "    url='https://itunes.apple.com/search?term=%par1'\n",
    "    a=a.replace(' ','+')\n",
    "    url=url.replace('%par1', a)\n",
    "    print(url)\n",
    "    get = requests.get(url)\n",
    "    print('done')\n",
    "    output.write(get.text.replace('\\n',''))\n",
    "    output.write('\\n')\n",
    "    #time.sleep(.5)\n",
    "output.close()"
   ]
  },
  {
   "cell_type": "markdown",
   "metadata": {},
   "source": [
    "### (3) Parse to CSV"
   ]
  },
  {
   "cell_type": "code",
   "execution_count": null,
   "metadata": {},
   "outputs": [],
   "source": [
    "f = open('output.json', 'r', encoding='UTF-8')\n",
    "data = f.readlines()\n",
    "f.close()\n",
    "\n",
    "csvfile = open('itunes.csv', 'w', encoding = 'UTF-8')\n",
    "for d in data:\n",
    "    jsonobj = json.loads(d)\n",
    "    for track in jsonobj.get('results'):\n",
    "        artistname = track.get('artistName')\n",
    "        trackname = str(track.get('trackName'))\n",
    "        csvfile.write(artistname+'\\t'+trackname+'\\n')#track.get('trackName')+'\\n')\n",
    "csvfile.close()"
   ]
  }
 ],
 "metadata": {
  "kernelspec": {
   "display_name": "Python 3",
   "language": "python",
   "name": "python3"
  },
  "language_info": {
   "codemirror_mode": {
    "name": "ipython",
    "version": 3
   },
   "file_extension": ".py",
   "mimetype": "text/x-python",
   "name": "python",
   "nbconvert_exporter": "python",
   "pygments_lexer": "ipython3",
   "version": "3.7.1"
  }
 },
 "nbformat": 4,
 "nbformat_minor": 2
}
