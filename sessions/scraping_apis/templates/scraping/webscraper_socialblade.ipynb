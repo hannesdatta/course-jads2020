{
 "cells": [
  {
   "cell_type": "markdown",
   "metadata": {},
   "source": [
    "# Web scraping workshop"
   ]
  },
  {
   "cell_type": "markdown",
   "metadata": {},
   "source": [
    "*This version: 14 June 2019*\n",
    "\n",
    "Comments: h.datta@tilburguniversity.edu\n",
    "\n",
    "**Requires Python 3.x**"
   ]
  },
  {
   "cell_type": "markdown",
   "metadata": {},
   "source": [
    "## Installation requirements\n",
    "Please install the following packages through pip:\n",
    "\n",
    "```\n",
    "pip install lxml\n",
    "pip install selenium\n",
    "pip install cssselect\n",
    "```\n",
    "\n",
    "You also need a *current version of chromedriver.exe*, which you place in the *same directory as this file*. Please visite the site below to download it: https://sites.google.com/a/chromium.org/chromedriver/\n",
    "\n",
    "**Only then will you be able to proceed to the next cells.**"
   ]
  },
  {
   "cell_type": "markdown",
   "metadata": {},
   "source": [
    "## Load packages"
   ]
  },
  {
   "cell_type": "code",
   "execution_count": null,
   "metadata": {},
   "outputs": [],
   "source": [
    "# Load packages into memory\n",
    "import urllib3\n",
    "import datetime\n",
    "from lxml import etree \n",
    "from lxml.cssselect import CSSSelector\n",
    "from lxml.etree import fromstring\n",
    "\n",
    "from selenium import webdriver\n",
    "import time\n",
    "import codecs\n",
    "\n",
    "import re\n",
    "import os\n",
    "import requests\n",
    "import io\n",
    "import json\n",
    "from datetime import datetime\n",
    "from datetime import timedelta\n",
    "import pandas as pd\n",
    "\n",
    "# Function to clean text from extra characters (e.g., new line characters, tabs)\n",
    "def cleanstring(obj):\n",
    "    return(re.sub(r\"[\\n\\t\\s]*\", \"\", obj))\n",
    "\n",
    "# Function to create a new directory if it does not exist yet\n",
    "def makedir(dirname):\n",
    "    try:\n",
    "        os.stat(dirname)\n",
    "    except:\n",
    "        os.mkdir(dirname)\n",
    "        \n",
    "# Function to generate filename based on time of the computer\n",
    "def timestamp_to_string(prefix='', extention='.html'):\n",
    "    return(prefix+str(time.time()).replace('.','-')+extention)"
   ]
  },
  {
   "cell_type": "markdown",
   "metadata": {},
   "source": [
    "# Example: Building a web scraper for Socialblade.com"
   ]
  },
  {
   "cell_type": "markdown",
   "metadata": {},
   "source": [
    "What you've seen before was just a starter. Here, we use proper machinery - read, packages - that help us get the data we want."
   ]
  },
  {
   "cell_type": "markdown",
   "metadata": {},
   "source": [
    "## (a) Introducing you to chromedriver (\"What you see is what you get!\")"
   ]
  },
  {
   "cell_type": "markdown",
   "metadata": {},
   "source": [
    "This time, we use a web driver provided by Internet browser Chrome (\"chromedriver.exe\"), in combination with a really powerful Python package called selenium. Using this package will help us to actually retrieve parts of the page.\n",
    "To make this code work, chromedriver.exe needs to be located in the same directory as this file.\n",
    "\n",
    "Download chromedriver: http://chromedriver.chromium.org/downloads"
   ]
  },
  {
   "cell_type": "markdown",
   "metadata": {},
   "source": [
    "Let's first open the browser"
   ]
  },
  {
   "cell_type": "code",
   "execution_count": null,
   "metadata": {},
   "outputs": [],
   "source": [
    "browser=webdriver.Chrome()"
   ]
  },
  {
   "cell_type": "markdown",
   "metadata": {},
   "source": [
    "Magic, huh? Now let's direct it to a page."
   ]
  },
  {
   "cell_type": "code",
   "execution_count": null,
   "metadata": {},
   "outputs": [],
   "source": [
    "browser.get('https://socialblade.com/youtube/user/nike')"
   ]
  },
  {
   "cell_type": "markdown",
   "metadata": {},
   "source": [
    "We could now build a loop to extract the number of video views...\n",
    "\n",
    "Let's first see whether we have the right CSS selector for these views."
   ]
  },
  {
   "cell_type": "code",
   "execution_count": null,
   "metadata": {},
   "outputs": [],
   "source": [
    "browser.find_element_by_css_selector('#YouTubeUserTopInfoBlock > div:nth-child(4) > span:nth-child(3)').text"
   ]
  },
  {
   "cell_type": "markdown",
   "metadata": {},
   "source": [
    "Let's build a loop and save the data in a JSON object."
   ]
  },
  {
   "cell_type": "code",
   "execution_count": null,
   "metadata": {},
   "outputs": [],
   "source": [
    "users = ['nijntje', 'nike', 'adidas', 'hannesd84']\n",
    "\n",
    "dat = []\n",
    "\n",
    "for user in users:\n",
    "    url = 'http://www.socialblade.com/youtube/user/'+user\n",
    "    print(url)\n",
    "    browser.get(url)\n",
    "    time.sleep(3) # let the browser wait for a while!\n",
    "    var = browser.find_element_by_css_selector('#YouTubeUserTopInfoBlock > div:nth-child(4) > span:nth-child(3)').text\n",
    "    dat.append({\"user\":user, \"followers\": var})\n",
    "\n",
    "dat"
   ]
  },
  {
   "cell_type": "code",
   "execution_count": null,
   "metadata": {},
   "outputs": [],
   "source": [
    "# save data to JSON\n",
    "makedir('module7')\n",
    "f=open('module7/data.json', 'w')\n",
    "for line in dat:\n",
    "    f.write(json.dumps(line)+'\\n')\n",
    "f.close()\n"
   ]
  },
  {
   "cell_type": "code",
   "execution_count": null,
   "metadata": {},
   "outputs": [],
   "source": [
    "# or... save the data to CSV\n",
    "makedir('module7')\n",
    "f=open('module7/data.csv', 'w')\n",
    "for line in dat:\n",
    "    f.write(line.get('user')+'\\t'+line.get('followers')+'\\n')\n",
    "f.close()\n"
   ]
  },
  {
   "cell_type": "markdown",
   "metadata": {},
   "source": [
    "## (b) Working scraper"
   ]
  },
  {
   "cell_type": "markdown",
   "metadata": {},
   "source": [
    "Let's re-run the cell above, but catch any error."
   ]
  },
  {
   "cell_type": "code",
   "execution_count": null,
   "metadata": {},
   "outputs": [],
   "source": [
    "users = ['nijntje', 'nike', 'adidas', 'hannesd84']\n",
    "\n",
    "dat = []\n",
    "\n",
    "for user in users:\n",
    "    url = 'http://www.socialblade.com/youtube/user/'+user\n",
    "    browser.get(url)\n",
    "    time.sleep(3) # let the browser wait for a while!\n",
    "    \n",
    "    try:\n",
    "        var = browser.find_element_by_css_selector('#YouTubeUserTopInfoBlock > div:nth-child(4) > span:nth-child(3)').text\n",
    "    except:\n",
    "        var = 'NA'\n",
    "    dat.append({\"user\":user, \"followers\": var})\n",
    "\n",
    "dat"
   ]
  },
  {
   "cell_type": "markdown",
   "metadata": {},
   "source": [
    "### Diagnostics: write page to file so that you can view it"
   ]
  },
  {
   "cell_type": "code",
   "execution_count": null,
   "metadata": {},
   "outputs": [],
   "source": [
    "content = browser.page_source\n",
    "len(content)\n",
    "f = io.open('module7/socialblade.html','w', encoding='utf-8')\n",
    "f.write(content)\n",
    "f.close()"
   ]
  },
  {
   "cell_type": "markdown",
   "metadata": {},
   "source": [
    "Check out the html in a browser now! \n",
    "\n",
    "To wrap things up, let's close Chrome again."
   ]
  },
  {
   "cell_type": "code",
   "execution_count": null,
   "metadata": {},
   "outputs": [],
   "source": [
    "browser.close()"
   ]
  },
  {
   "cell_type": "markdown",
   "metadata": {},
   "source": [
    "# Your turn...!"
   ]
  },
  {
   "cell_type": "markdown",
   "metadata": {},
   "source": [
    "please adapt the script below for your own site"
   ]
  },
  {
   "cell_type": "code",
   "execution_count": null,
   "metadata": {},
   "outputs": [],
   "source": [
    "# let's first open Chrome again\n",
    "browser=webdriver.Chrome()"
   ]
  },
  {
   "cell_type": "code",
   "execution_count": null,
   "metadata": {},
   "outputs": [],
   "source": [
    "users = ['nijntje', 'nike', 'adidas', 'hannesd84']\n",
    "\n",
    "dat = []\n",
    "\n",
    "for user in users:\n",
    "    url = 'http://www.socialblade.com/youtube/user/'+user\n",
    "    browser.get(url)\n",
    "    time.sleep(3) # let the browser wait for a while!\n",
    "    \n",
    "    try:\n",
    "        var = browser.find_element_by_css_selector('#YouTubeUserTopInfoBlock > div:nth-child(4) > span:nth-child(3)').text\n",
    "    except:\n",
    "        var = 'NA'\n",
    "    \n",
    "    dat.append({\"user\":user, \"followers\": var})\n",
    "\n",
    "# save data to JSON\n",
    "makedir('mysite')\n",
    "f=open('mysite/my_website.json', 'w')\n",
    "for line in dat:\n",
    "    f.write(json.dumps(line)+'\\n')\n",
    "f.close()\n"
   ]
  },
  {
   "cell_type": "code",
   "execution_count": null,
   "metadata": {},
   "outputs": [],
   "source": []
  }
 ],
 "metadata": {
  "kernelspec": {
   "display_name": "Python 3",
   "language": "python",
   "name": "python3"
  },
  "language_info": {
   "codemirror_mode": {
    "name": "ipython",
    "version": 3
   },
   "file_extension": ".py",
   "mimetype": "text/x-python",
   "name": "python",
   "nbconvert_exporter": "python",
   "pygments_lexer": "ipython3",
   "version": "3.7.1"
  }
 },
 "nbformat": 4,
 "nbformat_minor": 2
}
